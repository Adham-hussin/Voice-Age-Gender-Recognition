{
 "cells": [
  {
   "cell_type": "code",
   "execution_count": 7,
   "id": "b1b9e7d3",
   "metadata": {},
   "outputs": [],
   "source": [
    "import pandas as pd\n",
    "import numpy as np\n",
    "import matplotlib.pyplot as plt\n",
    "import os\n",
    "import librosa\n",
    "import soundfile as sf\n",
    "import scipy.stats\n",
    "\n",
    "data = pd.read_csv('filtered_data_labeled_cleaned_working_samples.csv')"
   ]
  },
  {
   "cell_type": "code",
   "execution_count": 8,
   "id": "c45663ac",
   "metadata": {},
   "outputs": [
    {
     "name": "stdout",
     "output_type": "stream",
     "text": [
      "   mfcc1_mean  mfcc1_std  mfcc2_mean  mfcc2_std  mfcc3_mean  mfcc3_std  \\\n",
      "0 -404.964752   87.18145  132.553467  75.476418   27.972475  47.279434   \n",
      "\n",
      "   mfcc4_mean  mfcc4_std  mfcc5_mean  mfcc5_std  ...  mfcc39_mean  mfcc39_std  \\\n",
      "0   -1.643079  35.354286    5.687986  24.201862  ...     0.017239    0.839563   \n",
      "\n",
      "   spectral_centroid  spectral_bandwidth  spectral_rolloff  spectral_flatness  \\\n",
      "0        1316.820369         1389.683462        2150.14129           0.030038   \n",
      "\n",
      "   rms_energy       zcr   pitch_mean  pitch_std  \n",
      "0    0.070999  0.046292  1147.252808  878.04718  \n",
      "\n",
      "[1 rows x 86 columns]\n"
     ]
    }
   ],
   "source": [
    "def extract_features(y, sr):\n",
    "    features = {}\n",
    "\n",
    "    # ================== 1. MFCCs ==================\n",
    "    mfccs = librosa.feature.mfcc(y=y, sr=sr, n_mfcc=13)\n",
    "    delta_mfcc = librosa.feature.delta(mfccs)\n",
    "    delta2_mfcc = librosa.feature.delta(mfccs, order=2)\n",
    "    all_mfcc = np.vstack([mfccs, delta_mfcc, delta2_mfcc])\n",
    "\n",
    "    # Summary stats (mean, std, etc.)\n",
    "    for i, coeff in enumerate(all_mfcc):\n",
    "        features[f'mfcc{i+1}_mean'] = np.mean(coeff)\n",
    "        features[f'mfcc{i+1}_std'] = np.std(coeff)\n",
    "\n",
    "    # ================== 2. Spectral Features ==================\n",
    "    features['spectral_centroid'] = np.mean(librosa.feature.spectral_centroid(y=y, sr=sr))\n",
    "    features['spectral_bandwidth'] = np.mean(librosa.feature.spectral_bandwidth(y=y, sr=sr))\n",
    "    features['spectral_rolloff'] = np.mean(librosa.feature.spectral_rolloff(y=y, sr=sr))\n",
    "    features['spectral_flatness'] = np.mean(librosa.feature.spectral_flatness(y=y))\n",
    "\n",
    "    # ================== 3. Energy & ZCR ==================\n",
    "    features['rms_energy'] = np.mean(librosa.feature.rms(y=y))\n",
    "    features['zcr'] = np.mean(librosa.feature.zero_crossing_rate(y))\n",
    "\n",
    "    # ================== 4. Pitch ==================\n",
    "    pitches, magnitudes = librosa.piptrack(y=y, sr=sr)\n",
    "    pitches = pitches[magnitudes > np.median(magnitudes)]\n",
    "    if len(pitches) > 0:\n",
    "        features['pitch_mean'] = np.mean(pitches)\n",
    "        features['pitch_std'] = np.std(pitches)\n",
    "    else:\n",
    "        features['pitch_mean'] = 0\n",
    "        features['pitch_std'] = 0\n",
    "\n",
    "    return features\n",
    "\n",
    "\n",
    "# Example usage\n",
    "y, sr = librosa.load(\"trimmed_padded/common_voice_en_1463.wav\", sr=None)\n",
    "features = extract_features(y, sr)\n",
    "\n",
    "features_df = pd.DataFrame([features])\n",
    "print(features_df.head())\n"
   ]
  },
  {
   "cell_type": "code",
   "execution_count": 10,
   "id": "aec08324",
   "metadata": {},
   "outputs": [
    {
     "name": "stderr",
     "output_type": "stream",
     "text": [
      "  0%|          | 0/39178 [00:00<?, ?it/s]"
     ]
    },
    {
     "name": "stderr",
     "output_type": "stream",
     "text": [
      "100%|██████████| 39178/39178 [10:12<00:00, 63.96it/s]\n"
     ]
    }
   ],
   "source": [
    "from joblib import Parallel, delayed\n",
    "from tqdm import tqdm\n",
    "\n",
    "\n",
    "\n",
    "def process_file(file_path, class_label=None):\n",
    "    # Load the audio file\n",
    "    y, sr = librosa.load(file_path, sr=None)\n",
    "\n",
    "    # Extract features\n",
    "    features = extract_features(y, sr)\n",
    "\n",
    "    # Add the file name to the features\n",
    "    features['file_name'] = os.path.basename(file_path)\n",
    "    # Add the class label if provided\n",
    "    if class_label is not None:\n",
    "        features['class_label'] = class_label\n",
    "    \n",
    "\n",
    "    return features\n",
    "\n",
    "# Get a list of all audio files from the data dataframe\n",
    "audio_dir = 'trimmed_padded'\n",
    "# Process the files in parallel\n",
    "features_list = Parallel(n_jobs=-1)(\n",
    "    delayed(process_file)(os.path.join(audio_dir, row.path), row.label)\n",
    "    for row in tqdm(list(data.itertuples(index=False)))\n",
    ")\n",
    "# Convert the list of features into a DataFrame\n",
    "features_df = pd.DataFrame(features_list)\n",
    "# Save the features to a CSV file\n",
    "features_df.to_csv('audio_features.csv', index=False)\n"
   ]
  },
  {
   "cell_type": "code",
   "execution_count": null,
   "id": "96cb7ef2",
   "metadata": {},
   "outputs": [],
   "source": []
  }
 ],
 "metadata": {
  "kernelspec": {
   "display_name": "Python 3",
   "language": "python",
   "name": "python3"
  },
  "language_info": {
   "codemirror_mode": {
    "name": "ipython",
    "version": 3
   },
   "file_extension": ".py",
   "mimetype": "text/x-python",
   "name": "python",
   "nbconvert_exporter": "python",
   "pygments_lexer": "ipython3",
   "version": "3.12.5"
  }
 },
 "nbformat": 4,
 "nbformat_minor": 5
}
